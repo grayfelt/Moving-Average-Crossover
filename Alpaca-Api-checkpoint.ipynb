{
 "cells": [
  {
   "cell_type": "code",
   "execution_count": 3,
   "metadata": {
    "scrolled": false
   },
   "outputs": [
    {
     "name": "stdout",
     "output_type": "stream",
     "text": [
      "Requirement already satisfied: panda in e:\\anaconda\\lib\\site-packages (0.3.1)\n",
      "Requirement already satisfied: requests in e:\\anaconda\\lib\\site-packages (from panda) (2.22.0)\n",
      "Requirement already satisfied: setuptools in e:\\anaconda\\lib\\site-packages (from panda) (41.0.1)\n",
      "Requirement already satisfied: certifi>=2017.4.17 in e:\\anaconda\\lib\\site-packages (from requests->panda) (2019.6.16)\n",
      "Requirement already satisfied: idna<2.9,>=2.5 in e:\\anaconda\\lib\\site-packages (from requests->panda) (2.8)\n",
      "Requirement already satisfied: chardet<3.1.0,>=3.0.2 in e:\\anaconda\\lib\\site-packages (from requests->panda) (3.0.4)\n",
      "Requirement already satisfied: urllib3!=1.25.0,!=1.25.1,<1.26,>=1.21.1 in e:\\anaconda\\lib\\site-packages (from requests->panda) (1.24.2)\n"
     ]
    }
   ],
   "source": [
    "!pip install panda"
   ]
  },
  {
   "cell_type": "code",
   "execution_count": 1,
   "metadata": {},
   "outputs": [],
   "source": [
    "import alpaca_trade_api as tradeapi\n",
    "import requests\n",
    "import time\n",
    "import numpy as np\n",
    "import datetime as datetime\n",
    "from pytz import timezone\n",
    "import pandas_datareader as pdr\n",
    "import pandas as pd\n",
    "import matplotlib.pyplot as plt"
   ]
  },
  {
   "cell_type": "code",
   "execution_count": 2,
   "metadata": {
    "scrolled": true
   },
   "outputs": [],
   "source": [
    "base_url = 'https://paper-api.alpaca.markets'\n",
    "api_key_id = 'PK4AZ1VXQHZF04KG6529'\n",
    "api_secret = '69vtuZOPIHnGjPt5veUppN/DfZf3xlTgNuoE8fHO'\n",
    "session = requests.session()"
   ]
  },
  {
   "cell_type": "code",
   "execution_count": 3,
   "metadata": {},
   "outputs": [],
   "source": [
    "api = tradeapi.REST(\n",
    "    base_url=base_url,\n",
    "    key_id=api_key_id,\n",
    "    secret_key=api_secret\n",
    ")\n"
   ]
  },
  {
   "cell_type": "code",
   "execution_count": null,
   "metadata": {},
   "outputs": [],
   "source": [
    "def MACD(stock_symbol):\n",
    "    symbol = stock_symbol\n",
    "    start = datetime.datetime.today() - datetime.timedelta(days=30)\n",
    "    end = datetime.datetime.today() - datetime.timedelta(days = 1)\n",
    "    stock = pdr.DataReader(symbol, 'yahoo', start, end)\n",
    "    # Initialize short/long windows\n",
    "    smallWindow = 5\n",
    "    largeWindow = 45\n",
    "    \n",
    "    # Initialize the 'signals' DataFrame with the 'signal' column\n",
    "    signals = pd.DataFrame(index=stock.index)\n",
    "    signals['signal'] = 0.0\n",
    "    \n",
    "    # Create short simple moving average over short window\n",
    "    signals['short_mavg'] = stock['Close'].rolling(window = smallWindow, min_periods = 1, center=False).mean()\n",
    "    \n",
    "    # Create long simple moving average over the long window\n",
    "    signals['long_mavg'] = stock['Close'].rolling(window = largeWindow, min_periods=1, center=False).mean()\n",
    "    \n",
    "    # Create signalds\n",
    "    signals['signal'][smallWindow:] = np.where(signals['short_mavg'][smallWindow:] > signals['long_mavg'][smallWindow:], 1.0, 0.0)\n",
    "    \n",
    "    # Generate trading orders\n",
    "    signals['positions'] = signals['signal'].diff()\n",
    "    signals['pct_change'] = ((stock['Close'] - stock['Open'])/(stock['Open'])) * 100\n",
    "    if(signals['positions'].iloc[-1] == 1.0):\n",
    "        api.submit_order(\n",
    "            symbol=symbol,\n",
    "            qty=30,\n",
    "            side='buy',\n",
    "            type='market',\n",
    "            time_in_force='gtc'\n",
    "            )\n",
    "        print(\"Ordered \" + symbol + \" BUY\")\n",
    "    elif(signals['positions'].iloc[-1] == -1.0):\n",
    "        api.submit_order(\n",
    "            symbol=symbol,\n",
    "            qty=30,\n",
    "            side='sell',\n",
    "            type='market',\n",
    "            time_in_force='gtc'\n",
    "            )\n",
    "        print(\"Ordered \" + symbol + \" SELL\")\n",
    "    \n",
    "    #Print yesterday's signal\n",
    "    print(signals.tail(1))\n",
    "    \n",
    "    \n",
    "    # Initialize the plot figure\n",
    "    fig = plt.figure(figsize=(8, 6))\n",
    "\n",
    "    # Add a subplot and label for y-axis\n",
    "    ax1 = fig.add_subplot(111,  ylabel='Price in $')\n",
    "\n",
    "    # Plot the closing price\n",
    "    stock['Close'].plot(ax=ax1, color='r', lw=2.)\n",
    "\n",
    "    # Plot the short and long moving averages\n",
    "    signals[['short_mavg', 'long_mavg']].plot(ax=ax1, lw=2.)\n",
    "\n",
    "    # Plot the buy signals\n",
    "    ax1.plot(signals.loc[signals.positions == 1.0].index, \n",
    "             signals.short_mavg[signals.positions == 1.0],\n",
    "             '^', markersize=10, color='m')\n",
    "\n",
    "    # Plot the sell signals\n",
    "    ax1.plot(signals.loc[signals.positions == -1.0].index, \n",
    "             signals.short_mavg[signals.positions == -1.0],\n",
    "             'v', markersize=10, color='k')\n",
    "\n",
    "    # Show the plot\n",
    "    plt.show()\n",
    "    \n",
    "    print(signals['positions'].iloc[-1])"
   ]
  },
  {
   "cell_type": "code",
   "execution_count": null,
   "metadata": {},
   "outputs": [
    {
     "name": "stdout",
     "output_type": "stream",
     "text": [
      "3669 minutes til market open.\n",
      "3668 minutes til market open.\n",
      "3667 minutes til market open.\n",
      "3666 minutes til market open.\n"
     ]
    }
   ],
   "source": [
    "def main():\n",
    "    # Wait for market open\n",
    "    isOpen = api.get_clock().is_open\n",
    "    while(not isOpen):\n",
    "      clock = api.get_clock()\n",
    "      openingTime = clock.next_open.replace(tzinfo=datetime.timezone.utc).timestamp()\n",
    "      currTime = clock.timestamp.replace(tzinfo=datetime.timezone.utc).timestamp()\n",
    "      timeToOpen = int((openingTime - currTime) / 60)\n",
    "      print(str(timeToOpen) + \" minutes til market open.\")\n",
    "      time.sleep(60)\n",
    "      isOpen = api.get_clock().is_open\n",
    "    # Wait one minute after market open\n",
    "    time.sleep(60)\n",
    "    \n",
    "    # Run moving average crossover \n",
    "    MACD('XLK')\n",
    "    MACD('AMD')\n",
    "    MACD('SPY')\n",
    "    MACD('AAPL')\n",
    "    MACD('TLRY')\n",
    "    MACD('TWTR')\n",
    "    MACD('FB')\n",
    "    MACD('MSFT')\n",
    "    MACD('DIS')\n",
    "    MACD('F')\n",
    "    MACD('SBUX')\n",
    "    MACD('BABA')\n",
    "    MACD('BAC')\n",
    "    MACD('FIT')\n",
    "    MACD('AMZN')\n",
    "    MACD('SQ')\n",
    "main()"
   ]
  },
  {
   "cell_type": "code",
   "execution_count": null,
   "metadata": {},
   "outputs": [],
   "source": [
    "def movingAverageCrossover():\n",
    "    start = datetime.datetime.today() - datetime.timedelta(days=30)\n",
    "    end = datetime.datetime.today()\n",
    "    xlk = pdr.DataReader(\"XLK\", 'yahoo', start, end)\n",
    "    # Initialize short/long windows\n",
    "    smallWindow = 5\n",
    "    largeWindow = 45\n",
    "    \n",
    "    # Initialize the 'signals' DataFrame with the 'signal' column\n",
    "    signals = pd.DataFrame(index=xlk.index)\n",
    "    signals['signal'] = 0.0\n",
    "    \n",
    "    # Create short simple moving average over short window\n",
    "    signals['short_mavg'] = xlk['Close'].rolling(window = smallWindow, min_periods = 1, center=False).mean()\n",
    "    \n",
    "    # Create long simple moving average over the long window\n",
    "    signals['long_mavg'] = xlk['Close'].rolling(window = largeWindow, min_periods=1, center=False).mean()\n",
    "    \n",
    "    # Create signalds\n",
    "    signals['signal'][smallWindow:] = np.where(signals['short_mavg'][smallWindow:] > signals['long_mavg'][smallWindow:], 1.0, 0.0)\n",
    "    \n",
    "    # Generate trading orders\n",
    "    signals['positions'] = signals['signal'].diff()\n",
    "    signals['pct_change'] = (xlk['Close'])/(xlk['Open']) - 1\n",
    "    \n",
    "    #Print 'signals'\n",
    "    print(signals)\n",
    "    \n",
    "    \n",
    "    # Initialize the plot figure\n",
    "    fig = plt.figure(figsize=(16, 12))\n",
    "\n",
    "    # Add a subplot and label for y-axis\n",
    "    ax1 = fig.add_subplot(111,  ylabel='Price in $')\n",
    "\n",
    "    # Plot the closing price\n",
    "    xlk['Close'].plot(ax=ax1, color='r', lw=2.)\n",
    "\n",
    "    # Plot the short and long moving averages\n",
    "    signals[['short_mavg', 'long_mavg']].plot(ax=ax1, lw=2.)\n",
    "\n",
    "    # Plot the buy signals\n",
    "    ax1.plot(signals.loc[signals.positions == 1.0].index, \n",
    "             signals.short_mavg[signals.positions == 1.0],\n",
    "             '^', markersize=10, color='m')\n",
    "\n",
    "    # Plot the sell signals\n",
    "    ax1.plot(signals.loc[signals.positions == -1.0].index, \n",
    "             signals.short_mavg[signals.positions == -1.0],\n",
    "             'v', markersize=10, color='k')\n",
    "\n",
    "    # Show the plot\n",
    "    plt.show()\n",
    "    \n",
    "movingAverageCrossover()"
   ]
  },
  {
   "cell_type": "code",
   "execution_count": null,
   "metadata": {},
   "outputs": [],
   "source": []
  }
 ],
 "metadata": {
  "kernelspec": {
   "display_name": "Python 3",
   "language": "python",
   "name": "python3"
  },
  "language_info": {
   "codemirror_mode": {
    "name": "ipython",
    "version": 3
   },
   "file_extension": ".py",
   "mimetype": "text/x-python",
   "name": "python",
   "nbconvert_exporter": "python",
   "pygments_lexer": "ipython3",
   "version": "3.7.3"
  }
 },
 "nbformat": 4,
 "nbformat_minor": 2
}
